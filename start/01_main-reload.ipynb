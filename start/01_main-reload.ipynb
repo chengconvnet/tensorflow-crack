{
 "cells": [
  {
   "cell_type": "markdown",
   "id": "e343f260",
   "metadata": {},
   "source": [
    "# 重载模型并训练"
   ]
  },
  {
   "cell_type": "code",
   "execution_count": 1,
   "id": "6a63cc6a",
   "metadata": {},
   "outputs": [
    {
     "name": "stdout",
     "output_type": "stream",
     "text": [
      "D:\\kaggle\\books\\tensorflow-crack\n"
     ]
    }
   ],
   "source": [
    "cd .."
   ]
  },
  {
   "cell_type": "markdown",
   "id": "a5391a87",
   "metadata": {},
   "source": [
    "## 载入数据"
   ]
  },
  {
   "cell_type": "code",
   "execution_count": 2,
   "id": "98f55fe1",
   "metadata": {
    "scrolled": false
   },
   "outputs": [
    {
     "name": "stdout",
     "output_type": "stream",
     "text": [
      "Found 600 images belonging to 2 classes.\n",
      "Found 200 images belonging to 2 classes.\n",
      "Found 200 images belonging to 2 classes.\n"
     ]
    }
   ],
   "source": [
    "from utils.loader import load_data\n",
    "from utils.toml import load_option\n",
    "\n",
    "options = load_option('options/dataset.toml')\n",
    "train_gen, val_gen, test_gen = load_data(**options)"
   ]
  },
  {
   "cell_type": "markdown",
   "id": "a9343ff0",
   "metadata": {},
   "source": [
    "## 载入模型"
   ]
  },
  {
   "cell_type": "code",
   "execution_count": 3,
   "id": "2fc44a76",
   "metadata": {},
   "outputs": [],
   "source": [
    "import tensorflow as tf\n",
    "from utils.log import log_model\n",
    "\n",
    "\n",
    "def reload_model(model_name, model_root):\n",
    "    model_name = f'{model_root}/{model_name}.h5'\n",
    "    model = tf.keras.models.load_model(model_name)\n",
    "    return model"
   ]
  },
  {
   "cell_type": "code",
   "execution_count": 4,
   "id": "69595f46",
   "metadata": {},
   "outputs": [],
   "source": [
    "train_options = load_option('options/train.toml')"
   ]
  },
  {
   "cell_type": "code",
   "execution_count": 5,
   "id": "00366851",
   "metadata": {
    "scrolled": false
   },
   "outputs": [
    {
     "name": "stdout",
     "output_type": "stream",
     "text": [
      "Model: \"sequential\"\n",
      "_________________________________________________________________\n",
      "Layer (type)                 Output Shape              Param #   \n",
      "=================================================================\n",
      "resnet152 (Functional)       (None, 7, 7, 2048)        58370944  \n",
      "_________________________________________________________________\n",
      "global_average_pooling2d (Gl (None, 2048)              0         \n",
      "_________________________________________________________________\n",
      "dense (Dense)                (None, 512)               1049088   \n",
      "_________________________________________________________________\n",
      "dense_1 (Dense)              (None, 1)                 513       \n",
      "=================================================================\n",
      "Total params: 59,420,545\n",
      "Trainable params: 1,049,601\n",
      "Non-trainable params: 58,370,944\n",
      "_________________________________________________________________\n"
     ]
    }
   ],
   "source": [
    "model = reload_model('resnet152', train_options.model_root)\n",
    "model.summary()"
   ]
  },
  {
   "cell_type": "markdown",
   "id": "3f400373",
   "metadata": {},
   "source": [
    "## 训练模型"
   ]
  },
  {
   "cell_type": "code",
   "execution_count": 6,
   "id": "2dc07b1e",
   "metadata": {
    "scrolled": true
   },
   "outputs": [
    {
     "name": "stdout",
     "output_type": "stream",
     "text": [
      "Epoch 1/10\n",
      "75/75 [==============================] - 33s 271ms/step - loss: 0.0957 - accuracy: 0.9650 - val_loss: 0.0453 - val_accuracy: 0.9900\n",
      "Epoch 2/10\n",
      "75/75 [==============================] - 15s 196ms/step - loss: 0.1279 - accuracy: 0.9633 - val_loss: 0.0200 - val_accuracy: 0.9950\n",
      "Epoch 3/10\n",
      "75/75 [==============================] - 15s 197ms/step - loss: 0.0482 - accuracy: 0.9833 - val_loss: 0.0780 - val_accuracy: 0.9650\n",
      "Epoch 4/10\n",
      "75/75 [==============================] - 15s 195ms/step - loss: 0.0461 - accuracy: 0.9850 - val_loss: 0.1395 - val_accuracy: 0.9350\n",
      "Epoch 5/10\n",
      "75/75 [==============================] - 15s 195ms/step - loss: 0.0678 - accuracy: 0.9783 - val_loss: 0.0725 - val_accuracy: 0.9750\n",
      "Epoch 6/10\n",
      "75/75 [==============================] - 15s 195ms/step - loss: 0.0253 - accuracy: 0.9883 - val_loss: 0.0461 - val_accuracy: 0.9900\n",
      "Epoch 7/10\n",
      "75/75 [==============================] - 15s 195ms/step - loss: 0.0455 - accuracy: 0.9850 - val_loss: 0.0658 - val_accuracy: 0.9800\n",
      "Epoch 8/10\n",
      "75/75 [==============================] - 15s 197ms/step - loss: 0.0589 - accuracy: 0.9850 - val_loss: 0.1185 - val_accuracy: 0.9400\n",
      "Epoch 9/10\n",
      "75/75 [==============================] - 15s 198ms/step - loss: 0.0297 - accuracy: 0.9950 - val_loss: 0.0696 - val_accuracy: 0.9650\n",
      "Epoch 10/10\n",
      "75/75 [==============================] - 15s 197ms/step - loss: 0.0214 - accuracy: 0.9917 - val_loss: 0.0276 - val_accuracy: 0.9900\n"
     ]
    },
    {
     "data": {
      "image/png": "[encoded data removed]",
      "text/plain": [
       "<Figure size 432x288 with 1 Axes>"
      ]
     },
     "metadata": {
      "needs_background": "light"
     },
     "output_type": "display_data"
    },
    {
     "data": {
      "image/png": "[encoded data removed]",
      "text/plain": [
       "<Figure size 432x288 with 1 Axes>"
      ]
     },
     "metadata": {
      "needs_background": "light"
     },
     "output_type": "display_data"
    },
    {
     "name": "stderr",
     "output_type": "stream",
     "text": [
      "C:\\Users\\xinet\\.conda\\envs\\tf\\lib\\site-packages\\tensorflow\\python\\keras\\utils\\generic_utils.py:494: CustomMaskWarning: Custom mask layers require a config and must override get_config. When loading, the custom mask layer must be passed to the custom_objects argument.\n",
      "  warnings.warn('Custom mask layers require a config and must override '\n"
     ]
    },
    {
     "data": {
      "text/plain": [
       "<tensorflow.python.keras.callbacks.History at 0x1ae4a408d00>"
      ]
     },
     "execution_count": 6,
     "metadata": {},
     "output_type": "execute_result"
    }
   ],
   "source": [
    "# 儲存模型\n",
    "model_name = 'resnet152A-reload'\n",
    "log_model(model, model_name,\n",
    "          train_gen, val_gen,\n",
    "          **train_options)"
   ]
  },
  {
   "cell_type": "markdown",
   "id": "0b369f6b",
   "metadata": {},
   "source": [
    "## 测试模型"
   ]
  },
  {
   "cell_type": "code",
   "execution_count": 7,
   "id": "f5cdcb74",
   "metadata": {},
   "outputs": [],
   "source": [
    "def test_result(model, test_generator, batch_size):\n",
    "    results = model.evaluate(x=test_generator,\n",
    "                             batch_size=batch_size,\n",
    "                             return_dict=True)\n",
    "    return results"
   ]
  },
  {
   "cell_type": "code",
   "execution_count": 8,
   "id": "556c8c43",
   "metadata": {},
   "outputs": [
    {
     "name": "stdout",
     "output_type": "stream",
     "text": [
      "25/25 [==============================] - 3s 104ms/step - loss: 0.0060 - accuracy: 1.0000\n"
     ]
    }
   ],
   "source": [
    "results = test_result(model, test_gen, batch_size=8)"
   ]
  }
 ],
 "metadata": {
  "kernelspec": {
   "display_name": "TensorFlow",
   "language": "python",
   "name": "tf"
  },
  "language_info": {
   "codemirror_mode": {
    "name": "ipython",
    "version": 3
   },
   "file_extension": ".py",
   "mimetype": "text/x-python",
   "name": "python",
   "nbconvert_exporter": "python",
   "pygments_lexer": "ipython3",
   "version": "3.9.5"
  },
  "nbTranslate": {
   "displayLangs": [
    "*"
   ],
   "hotkey": "alt-t",
   "langInMainMenu": true,
   "sourceLang": "en",
   "targetLang": "fr",
   "useGoogleTranslate": true
  }
 },
 "nbformat": 4,
 "nbformat_minor": 5
}
